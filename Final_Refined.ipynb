{
 "cells": [
  {
   "cell_type": "code",
   "execution_count": 1,
   "id": "512b6667",
   "metadata": {},
   "outputs": [],
   "source": [
    "import time\n",
    "import warnings\n",
    "import numpy as np\n",
    "import pandas as pd\n",
    "import matplotlib.pyplot as plt\n",
    "import seaborn as sns\n",
    "from pandas.core.common import SettingWithCopyWarning\n",
    "warnings.simplefilter(action=\"ignore\", category=SettingWithCopyWarning)"
   ]
  },
  {
   "cell_type": "code",
   "execution_count": 9,
   "id": "8ed8d208",
   "metadata": {},
   "outputs": [],
   "source": [
    "from sklearn.feature_selection import SelectKBest\n",
    "from sklearn.feature_selection import f_regression"
   ]
  },
  {
   "cell_type": "code",
   "execution_count": 10,
   "id": "0c094104",
   "metadata": {},
   "outputs": [],
   "source": [
    "from sklearn.model_selection import train_test_split"
   ]
  },
  {
   "cell_type": "code",
   "execution_count": 2,
   "id": "a1225bf4",
   "metadata": {},
   "outputs": [],
   "source": [
    "from pandas.core.common import SettingWithCopyWarning\n",
    "from sklearn import preprocessing\n",
    "min_max_scaler = preprocessing.MinMaxScaler()\n",
    "label_encoder = preprocessing.LabelEncoder()\n",
    "oh_encoder = preprocessing.OneHotEncoder()\n",
    "oh_columns = set()"
   ]
  },
  {
   "cell_type": "code",
   "execution_count": 11,
   "id": "93a576cc",
   "metadata": {},
   "outputs": [],
   "source": [
    "from sklearn.linear_model import LogisticRegression\n",
    "from sklearn.ensemble import RandomForestClassifier\n",
    "from sklearn.svm import LinearSVC\n",
    "from sklearn.ensemble import GradientBoostingClassifier\n",
    "from sklearn.neighbors import KNeighborsClassifier\n",
    "from sklearn.linear_model import SGDClassifier\n",
    "from sklearn.tree import DecisionTreeClassifier\n",
    "from sklearn.metrics import confusion_matrix"
   ]
  },
  {
   "cell_type": "code",
   "execution_count": 3,
   "id": "1712687d",
   "metadata": {},
   "outputs": [],
   "source": [
    "pd.options.display.float_format = '{:,.2f}'.format"
   ]
  },
  {
   "cell_type": "code",
   "execution_count": 4,
   "id": "46950ed8",
   "metadata": {},
   "outputs": [],
   "source": [
    "df_train = pd.read_csv('data/application_train.csv')"
   ]
  },
  {
   "cell_type": "code",
   "execution_count": 5,
   "id": "ea32335a",
   "metadata": {},
   "outputs": [],
   "source": [
    "df_test = pd.read_csv('data/application_test.csv')"
   ]
  },
  {
   "cell_type": "code",
   "execution_count": 6,
   "id": "cf35edf8",
   "metadata": {},
   "outputs": [],
   "source": [
    "def data_transform(df_train):\n",
    "    oh_columns = set()\n",
    "    #CAR_STATUS\n",
    "    df_train['CAR_STATUS'] = pd.qcut(df_train['OWN_CAR_AGE'], 3, labels=['NEW', 'OLD', 'Vintage'])\n",
    "    df_train['CAR_STATUS']=(df_train['CAR_STATUS'].cat.add_categories('NO').fillna('NO'))\n",
    "    df_train['CAR_STATUS'] = label_encoder.fit_transform(df_train['CAR_STATUS'])\n",
    "    df_train.drop(['OWN_CAR_AGE','FLAG_OWN_CAR'], axis = 1, inplace = True)\n",
    "\n",
    "    # Normalizing Columns for AVG, MODE, MEDI\n",
    "    norm_columns = list(df_train.loc[:, df_train.columns.str.endswith('_AVG')].columns)\n",
    "    for column in norm_columns:\n",
    "        column_AVG = column\n",
    "        column_MEDI = column.replace(\"_AVG\",\"_MEDI\")\n",
    "        column_MODE = column.replace(\"_AVG\",\"_MODE\")\n",
    "        column_NORM = column.replace(\"_AVG\",\"_NORM\")\n",
    "        df_train[column_NORM] = df_train[[column_AVG,column_MEDI,column_MODE]].mean(axis=1)\n",
    "        df_train.drop([column_AVG, column_MEDI, column_MODE], axis = 1, inplace = True)\n",
    "\n",
    "    # NAME_CONTRACT_TYPE\n",
    "    df_train['NAME_CONTRACT_TYPE'] = label_encoder.fit_transform(df_train['NAME_CONTRACT_TYPE'])\n",
    "\n",
    "\n",
    "    #CODE_GENDER\n",
    "    #Remove XNA\n",
    "    df_train = df_train[df_train['CODE_GENDER'] != 'XNA']\n",
    "    df_train['CODE_GENDER'].value_counts()\n",
    "    df_train['CODE_GENDER'] = label_encoder.fit_transform(df_train['CODE_GENDER'])\n",
    "\n",
    "    #Converting all flag columns\n",
    "    flag_columns = list(df_train.loc[:, df_train.columns.str.startswith('FLAG_')].columns)\n",
    "    flag_columns.extend(['REG_REGION_NOT_LIVE_REGION', 'REG_REGION_NOT_WORK_REGION', 'LIVE_REGION_NOT_WORK_REGION', \n",
    "                    'REG_CITY_NOT_LIVE_CITY', 'REG_CITY_NOT_WORK_CITY', 'LIVE_CITY_NOT_WORK_CITY'])\n",
    "    for column in flag_columns:\n",
    "        df_train[column] = label_encoder.fit_transform(df_train[column])\n",
    "\n",
    "\n",
    "    #converting all named & categorical columns\n",
    "    name_columns = df_train.loc[:, df_train.columns.str.startswith('NAME_')].columns\n",
    "    df_train['NAME_TYPE_SUITE'].replace(['Other_A', 'Other_B'], 'Other', inplace = True)\n",
    "    #Remove unknown?\n",
    "    df_train = df_train[df_train['NAME_FAMILY_STATUS'] != 'Unknown']\n",
    "    #Civil Marriage is Marriage\n",
    "    df_train['NAME_FAMILY_STATUS'].replace('Civil marriage', 'Married', inplace = True)\n",
    "    # One Hot encoding?\n",
    "    oh_columns.add('NAME_TYPE_SUITE')\n",
    "    oh_columns.add('NAME_INCOME_TYPE')\n",
    "    oh_columns.add('NAME_EDUCATION_TYPE')\n",
    "    oh_columns.add('NAME_FAMILY_STATUS')\n",
    "    oh_columns.add('NAME_HOUSING_TYPE')\n",
    "    oh_columns.add('REGION_RATING_CLIENT')\n",
    "    oh_columns.add('REGION_RATING_CLIENT_W_CITY')\n",
    "    oh_columns.add('FONDKAPREMONT_MODE')\n",
    "    oh_columns.add('HOUSETYPE_MODE')\n",
    "    oh_columns.add('WALLSMATERIAL_MODE')  \n",
    "    df_train = pd.get_dummies(df_train, columns = list(oh_columns))\n",
    "\n",
    "    #Children count\n",
    "    df_train['CNT_CHILDREN_NORM'] = min_max_scaler.fit_transform(df_train['CNT_CHILDREN'].values.reshape(-1, 1))\n",
    "    df_train.drop(['CNT_CHILDREN'], axis = 1, inplace = True)\n",
    "\n",
    "    #AMOUNT Columns\n",
    "    #Retain 99%\n",
    "    df_train = df_train[df_train['AMT_INCOME_TOTAL'] < df_train.AMT_INCOME_TOTAL.quantile(0.99)]\n",
    "    df_train['AMT_INCOME_TOTAL_NORM'] = min_max_scaler.fit_transform(df_train['AMT_INCOME_TOTAL'].values.reshape(-1, 1))\n",
    "    df_train.drop(['AMT_INCOME_TOTAL'], axis = 1, inplace = True)\n",
    "\n",
    "    df_train = df_train[df_train['AMT_CREDIT'] < df_train.AMT_CREDIT.quantile(0.99)]\n",
    "    df_train['AMT_CREDIT_NORM'] = min_max_scaler.fit_transform(df_train['AMT_CREDIT'].values.reshape(-1, 1))\n",
    "    df_train.drop(['AMT_CREDIT'], axis = 1, inplace = True)\n",
    "\n",
    "    df_train['AMT_ANNUITY'] = df_train['AMT_ANNUITY'].fillna(df_train['AMT_ANNUITY'].median())\n",
    "    df_train = df_train[df_train['AMT_ANNUITY'] < df_train.AMT_ANNUITY.quantile(0.99)]\n",
    "    df_train['AMT_ANNUITY_NORM'] = min_max_scaler.fit_transform(df_train['AMT_ANNUITY'].values.reshape(-1, 1))\n",
    "    df_train.drop(['AMT_ANNUITY'], axis = 1, inplace = True)\n",
    "\n",
    "    df_train['AMT_GOODS_PRICE'] = df_train['AMT_GOODS_PRICE'].fillna(df_train['AMT_GOODS_PRICE'].median())\n",
    "    df_train = df_train[df_train['AMT_GOODS_PRICE'] < df_train.AMT_GOODS_PRICE.quantile(0.99)]\n",
    "    df_train['AMT_GOODS_PRICE_NORM'] = min_max_scaler.fit_transform(df_train['AMT_GOODS_PRICE'].values.reshape(-1, 1))\n",
    "    df_train.drop(['AMT_GOODS_PRICE'], axis = 1, inplace = True)\n",
    "\n",
    "    #Days_BIRTH\n",
    "    df_train['YEARS_BIRTH'] = df_train['DAYS_BIRTH'].abs()/365\n",
    "    df_train.drop(['DAYS_BIRTH'], axis = 1, inplace = True)\n",
    "    df_train['YEARS_BIRTH_NORM'] = min_max_scaler.fit_transform(df_train['YEARS_BIRTH'].values.reshape(-1, 1))\n",
    "    df_train.drop(['YEARS_BIRTH'], axis = 1, inplace = True)\n",
    "\n",
    "    #days_employed\n",
    "    df_train['DAYS_EMPLOYED'].replace({365243: np.nan}, inplace = True)\n",
    "    df_train['DAYS_EMPLOYED_NORM'] = min_max_scaler.fit_transform(df_train['DAYS_EMPLOYED'].values.reshape(-1, 1))\n",
    "    df_train.drop(['DAYS_EMPLOYED'], axis = 1, inplace = True)\n",
    "\n",
    "    df_train['DAYS_REGISTRATION_NORM'] = min_max_scaler.fit_transform(df_train['DAYS_REGISTRATION'].values.reshape(-1, 1))\n",
    "    df_train.drop(['DAYS_REGISTRATION'], axis = 1, inplace = True)\n",
    "\n",
    "    df_train['DAYS_ID_PUBLISH_NORM'] = min_max_scaler.fit_transform(df_train['DAYS_ID_PUBLISH'].values.reshape(-1, 1))\n",
    "    df_train.drop(['DAYS_ID_PUBLISH'], axis = 1, inplace = True)\n",
    "\n",
    "    #Normalize some more columns\n",
    "    Normalize_columns = ['AMT_REQ_CREDIT_BUREAU_HOUR',\n",
    "    'AMT_REQ_CREDIT_BUREAU_DAY',\n",
    "    'AMT_REQ_CREDIT_BUREAU_WEEK',\n",
    "    'AMT_REQ_CREDIT_BUREAU_MON',\n",
    "    'AMT_REQ_CREDIT_BUREAU_QRT',\n",
    "    'AMT_REQ_CREDIT_BUREAU_YEAR',\n",
    "    'OBS_30_CNT_SOCIAL_CIRCLE',\n",
    "    'DEF_30_CNT_SOCIAL_CIRCLE',\n",
    "    'OBS_60_CNT_SOCIAL_CIRCLE',\n",
    "    'DEF_60_CNT_SOCIAL_CIRCLE',\n",
    "    'DAYS_LAST_PHONE_CHANGE',\n",
    "    'CNT_FAM_MEMBERS'\n",
    "    ]\n",
    "\n",
    "    for column in Normalize_columns:\n",
    "        df_train['{}_NORM'.format(column)] = min_max_scaler.fit_transform(df_train[column].values.reshape(-1, 1))\n",
    "        df_train.drop([column], axis = 1, inplace = True)\n",
    "\n",
    "\n",
    "    #drop occupation type\n",
    "    df_train.drop(['OCCUPATION_TYPE'], axis = 1, inplace = True)\n",
    "\n",
    "    #HOUR APPR PRocess start\n",
    "    #convert to day (6am [6] to 10pm [22]) and night (10pm [22] to 6am [6])\n",
    "    df_train['HOUR_APPR_PROCESS_DAY'] = (df_train['HOUR_APPR_PROCESS_START'] > 6) & (df_train['HOUR_APPR_PROCESS_START'] < 22)\n",
    "    df_train.drop(['HOUR_APPR_PROCESS_START'], axis = 1, inplace = True)\n",
    "    df_train['HOUR_APPR_PROCESS_DAY'] = label_encoder.fit_transform(df_train['HOUR_APPR_PROCESS_DAY'])\n",
    "\n",
    "    #drop week & organization type\n",
    "    df_train.drop(['WEEKDAY_APPR_PROCESS_START'], axis = 1, inplace = True)\n",
    "    df_train.drop(['ORGANIZATION_TYPE'], axis = 1, inplace = True)\n",
    "\n",
    "    df_train['EMERGENCYSTATE_MODE'] = label_encoder.fit_transform(df_train['EMERGENCYSTATE_MODE'])\n",
    "\n",
    "    df_train.fillna(0, inplace=True)\n",
    "    return df_train"
   ]
  },
  {
   "cell_type": "code",
   "execution_count": 7,
   "id": "653085fb",
   "metadata": {},
   "outputs": [],
   "source": [
    "df_transformed_train = data_transform(df_train)"
   ]
  },
  {
   "cell_type": "code",
   "execution_count": 8,
   "id": "4e46d710",
   "metadata": {},
   "outputs": [],
   "source": [
    "df_transformed_test = data_transform(df_test)"
   ]
  },
  {
   "cell_type": "code",
   "execution_count": 12,
   "id": "75d4fd97",
   "metadata": {},
   "outputs": [
    {
     "ename": "NameError",
     "evalue": "name 'df_rfe_transformed' is not defined",
     "output_type": "error",
     "traceback": [
      "\u001b[0;31m---------------------------------------------------------------------------\u001b[0m",
      "\u001b[0;31mNameError\u001b[0m                                 Traceback (most recent call last)",
      "Input \u001b[0;32mIn [12]\u001b[0m, in \u001b[0;36m<cell line: 1>\u001b[0;34m()\u001b[0m\n\u001b[0;32m----> 1\u001b[0m y \u001b[38;5;241m=\u001b[39m \u001b[43mdf_rfe_transformed\u001b[49m[\u001b[38;5;124m'\u001b[39m\u001b[38;5;124mTARGET\u001b[39m\u001b[38;5;124m'\u001b[39m]\n\u001b[1;32m      2\u001b[0m x \u001b[38;5;241m=\u001b[39m df_rfe_transformed\u001b[38;5;241m.\u001b[39mdrop([\u001b[38;5;124m'\u001b[39m\u001b[38;5;124mTARGET\u001b[39m\u001b[38;5;124m'\u001b[39m],axis\u001b[38;5;241m=\u001b[39m\u001b[38;5;241m1\u001b[39m)\n",
      "\u001b[0;31mNameError\u001b[0m: name 'df_rfe_transformed' is not defined"
     ]
    }
   ],
   "source": [
    "y = df_transformed['TARGET']\n",
    "x = df_transformed.drop(['TARGET'],axis=1)"
   ]
  },
  {
   "cell_type": "code",
   "execution_count": null,
   "id": "6b4e2555",
   "metadata": {},
   "outputs": [],
   "source": [
    "x_train, x_test, y_train, y_test = train_test_split(x,y,  test_size=0.2, random_state=123)"
   ]
  },
  {
   "cell_type": "code",
   "execution_count": null,
   "id": "aff71040",
   "metadata": {},
   "outputs": [],
   "source": [
    "algorithms = [\n",
    "    ('LR',LogisticRegression(max_iter=500)),\n",
    "    ('RFC',RandomForestClassifier()),\n",
    "    ('LSCV',LinearSVC(max_iter=500)),\n",
    "    ('GBC',GradientBoostingClassifier()),\n",
    "    ('KNC',KNeighborsClassifier(n_neighbors=5)),\n",
    "    ('SGD',SGDClassifier()),\n",
    "    ('DTC',DecisionTreeClassifier())\n",
    "]"
   ]
  },
  {
   "cell_type": "code",
   "execution_count": null,
   "id": "aff7a95c",
   "metadata": {},
   "outputs": [],
   "source": [
    "cm_labels = np.unique(y)"
   ]
  },
  {
   "cell_type": "code",
   "execution_count": null,
   "id": "9462e01e",
   "metadata": {},
   "outputs": [],
   "source": [
    "#UNI\n",
    "for name,algo in algorithms:\n",
    "    print ()\n",
    "    print (\"============== Running {} ======\".format(algo))\n",
    "    t1 = time.perf_counter()\n",
    "    model = algo.fit (x_train, np.ravel(y_train))\n",
    "    t2 = time.perf_counter()\n",
    "    y_pred = model.predict(x_test)\n",
    "    t3 = time.perf_counter()\n",
    "    \n",
    "    cm_array = confusion_matrix(y_test, y_pred)\n",
    "    cm_df = pd.DataFrame(cm_array, index=cm_labels, columns=cm_labels)\n",
    "    \n",
    "    print (\"Training time : {:,.1f} secs ({:,.1f} ms)\".format ( (t2-t1), (t2-t1)*1e3))\n",
    "    print (\"Prediction time : {:,.1f} secs ({:,.1f} ms)\".format ( (t3-t2), (t3-t2)*1e3))\n",
    "    print (\"Training score : \", model.score(x_train, y_train))\n",
    "    print (\"Testing score : \", model.score(x_test, y_test))\n",
    "    print (\"Confusion matrix : \")\n",
    "    print (cm_df)"
   ]
  },
  {
   "cell_type": "markdown",
   "id": "0646214c",
   "metadata": {},
   "source": [
    "## Automated Feature Selection"
   ]
  },
  {
   "cell_type": "code",
   "execution_count": 13,
   "id": "68e360f3",
   "metadata": {},
   "outputs": [],
   "source": [
    "from sklearn.feature_selection import SelectKBest\n",
    "from sklearn.feature_selection import f_regression"
   ]
  },
  {
   "cell_type": "code",
   "execution_count": 14,
   "id": "e933427e",
   "metadata": {},
   "outputs": [],
   "source": [
    "y = df_transformed_train['TARGET']\n",
    "x = df_transformed_train.drop(['TARGET'],axis=1)"
   ]
  },
  {
   "cell_type": "code",
   "execution_count": 15,
   "id": "b2dd63bc",
   "metadata": {},
   "outputs": [],
   "source": [
    "target = y\n",
    "features = x"
   ]
  },
  {
   "cell_type": "code",
   "execution_count": 16,
   "id": "4701f423",
   "metadata": {},
   "outputs": [],
   "source": [
    "select_univariate = SelectKBest(f_regression, k=50).fit(features, target)"
   ]
  },
  {
   "cell_type": "code",
   "execution_count": 19,
   "id": "434e99b8",
   "metadata": {},
   "outputs": [
    {
     "data": {
      "text/plain": [
       "array([False,  True,  True, False,  True, False,  True,  True, False,\n",
       "        True, False, False, False, False,  True,  True,  True,  True,\n",
       "        True,  True,  True,  True, False,  True, False, False,  True,\n",
       "       False, False, False, False, False, False, False, False, False,\n",
       "       False, False, False, False, False, False, False,  True,  True,\n",
       "        True,  True, False,  True,  True,  True,  True,  True,  True,\n",
       "        True, False, False, False, False,  True, False, False,  True,\n",
       "       False, False, False,  True, False, False, False, False, False,\n",
       "       False, False, False, False, False,  True, False, False, False,\n",
       "       False,  True, False,  True, False,  True, False, False, False,\n",
       "        True,  True, False, False,  True,  True, False,  True, False,\n",
       "        True, False, False,  True,  True, False, False, False, False,\n",
       "       False, False,  True,  True,  True,  True,  True, False, False,\n",
       "       False, False, False, False, False,  True, False,  True,  True,\n",
       "       False, False])"
      ]
     },
     "execution_count": 19,
     "metadata": {},
     "output_type": "execute_result"
    }
   ],
   "source": [
    "feature_mask = select_univariate.get_support()\n",
    "feature_mask"
   ]
  },
  {
   "cell_type": "code",
   "execution_count": 20,
   "id": "cb367c7e",
   "metadata": {},
   "outputs": [
    {
     "data": {
      "text/plain": [
       "Index(['NAME_CONTRACT_TYPE', 'CODE_GENDER', 'REGION_POPULATION_RELATIVE',\n",
       "       'FLAG_EMP_PHONE', 'FLAG_WORK_PHONE', 'FLAG_PHONE',\n",
       "       'REG_CITY_NOT_LIVE_CITY', 'REG_CITY_NOT_WORK_CITY',\n",
       "       'LIVE_CITY_NOT_WORK_CITY', 'EXT_SOURCE_1', 'EXT_SOURCE_2',\n",
       "       'EXT_SOURCE_3', 'TOTALAREA_MODE', 'EMERGENCYSTATE_MODE',\n",
       "       'FLAG_DOCUMENT_3', 'FLAG_DOCUMENT_6', 'APARTMENTS_NORM',\n",
       "       'BASEMENTAREA_NORM', 'YEARS_BEGINEXPLUATATION_NORM', 'YEARS_BUILD_NORM',\n",
       "       'ELEVATORS_NORM', 'ENTRANCES_NORM', 'FLOORSMAX_NORM', 'FLOORSMIN_NORM',\n",
       "       'LANDAREA_NORM', 'LIVINGAPARTMENTS_NORM', 'LIVINGAREA_NORM',\n",
       "       'FONDKAPREMONT_MODE_reg oper account',\n",
       "       'NAME_HOUSING_TYPE_House / apartment', 'NAME_HOUSING_TYPE_With parents',\n",
       "       'WALLSMATERIAL_MODE_Panel', 'NAME_FAMILY_STATUS_Single / not married',\n",
       "       'REGION_RATING_CLIENT_1', 'REGION_RATING_CLIENT_3',\n",
       "       'NAME_INCOME_TYPE_Pensioner', 'NAME_INCOME_TYPE_State servant',\n",
       "       'NAME_INCOME_TYPE_Working', 'REGION_RATING_CLIENT_W_CITY_1',\n",
       "       'REGION_RATING_CLIENT_W_CITY_3', 'NAME_EDUCATION_TYPE_Higher education',\n",
       "       'NAME_EDUCATION_TYPE_Secondary / secondary special',\n",
       "       'HOUSETYPE_MODE_block of flats', 'AMT_GOODS_PRICE_NORM',\n",
       "       'YEARS_BIRTH_NORM', 'DAYS_EMPLOYED_NORM', 'DAYS_REGISTRATION_NORM',\n",
       "       'DAYS_ID_PUBLISH_NORM', 'DEF_30_CNT_SOCIAL_CIRCLE_NORM',\n",
       "       'DEF_60_CNT_SOCIAL_CIRCLE_NORM', 'DAYS_LAST_PHONE_CHANGE_NORM'],\n",
       "      dtype='object')"
      ]
     },
     "execution_count": 20,
     "metadata": {},
     "output_type": "execute_result"
    }
   ],
   "source": [
    "features.columns[feature_mask]"
   ]
  },
  {
   "cell_type": "code",
   "execution_count": 17,
   "id": "3021ea1d",
   "metadata": {},
   "outputs": [
    {
     "data": {
      "text/plain": [
       "array([1.51638119e+00, 2.91395917e+02, 9.66297465e+02, 1.37692114e+01,\n",
       "       3.49865951e+02, 8.98325141e-02, 6.77922736e+02, 2.53919689e+02,\n",
       "       1.17905215e-02, 1.58769853e+02, 1.76608286e-01, 1.25752129e+01,\n",
       "       2.43896855e+01, 6.99569604e+00, 5.92440007e+02, 7.76701588e+02,\n",
       "       3.14578033e+02, 1.20607260e+03, 7.59053953e+03, 4.27795382e+03,\n",
       "       4.59739383e+02, 4.92676757e+02, 7.49149235e+00, 5.97214295e+02,\n",
       "       1.97646892e+00, 2.97959055e-03, 2.62494227e+02, 2.91318624e-01,\n",
       "       1.15778072e+01, 4.52214464e+00, 6.28841563e-01, 6.67234147e+00,\n",
       "       8.98325141e-02, 3.28656966e+01, 2.58035780e+01, 1.14639434e+01,\n",
       "       3.52747826e+01, 2.37147822e+00, 1.30533493e+01, 4.92928375e-01,\n",
       "       7.30840626e-01, 4.21707947e+00, 7.56970765e+01, 4.32785126e+02,\n",
       "       3.00303991e+02, 4.69327930e+02, 2.89396690e+02, 1.12466616e+02,\n",
       "       3.34245117e+02, 4.12085373e+02, 6.75618168e+02, 3.05560340e+02,\n",
       "       1.55245300e+02, 2.27398703e+02, 4.35254261e+02, 6.81346792e+00,\n",
       "       9.24615507e+01, 1.65882707e+00, 3.55112948e+01, 1.36382992e+02,\n",
       "       3.42763352e+01, 3.79255898e-02, 2.38780957e+02, 3.36249593e+00,\n",
       "       7.02376401e+00, 1.15622671e+02, 2.57047267e+02, 2.35537295e+00,\n",
       "       2.08351559e+01, 1.54142502e-01, 6.67313302e+00, 2.13789730e-01,\n",
       "       1.95118837e+01, 1.15765517e+01, 5.12512721e-01, 2.14643544e+01,\n",
       "       1.04433258e-01, 3.09055294e+02, 4.76841744e+01, 1.89468227e+01,\n",
       "       3.11503533e+01, 2.58421505e-02, 1.93550388e+02, 1.25871605e+02,\n",
       "       4.09605574e+02, 6.48603330e+01, 6.72507752e+02, 2.69499537e-01,\n",
       "       2.89126310e+01, 2.49707089e+00, 6.84726568e+02, 1.50381598e+02,\n",
       "       1.52724318e+00, 2.66725781e+01, 9.57137273e+02, 4.35423518e+02,\n",
       "       5.26585707e+01, 7.22621290e+02, 7.39542461e+00, 8.54401757e+02,\n",
       "       1.92306373e+00, 3.98894087e+01, 6.50071963e+02, 4.54726641e+02,\n",
       "       7.47310170e+00, 1.18339217e-01, 1.15628713e+02, 6.32584242e+01,\n",
       "       9.70472356e+01, 7.06196826e+00, 2.39933784e+02, 1.87032525e+03,\n",
       "       1.37824779e+03, 5.52524644e+02, 8.09457679e+02, 1.89434362e-02,\n",
       "       6.15515329e-01, 5.14175030e-01, 5.99528519e+01, 9.74412475e+00,\n",
       "       7.34272418e+00, 2.16199249e+01, 2.94827704e+02, 2.10115077e+01,\n",
       "       2.76898671e+02, 9.28356737e+02, 3.35575689e+01, 8.76183636e+01])"
      ]
     },
     "execution_count": 17,
     "metadata": {},
     "output_type": "execute_result"
    }
   ],
   "source": [
    "select_univariate.scores_"
   ]
  },
  {
   "cell_type": "code",
   "execution_count": 21,
   "id": "2ec5b55b",
   "metadata": {},
   "outputs": [
    {
     "data": {
      "text/html": [
       "<div>\n",
       "<style scoped>\n",
       "    .dataframe tbody tr th:only-of-type {\n",
       "        vertical-align: middle;\n",
       "    }\n",
       "\n",
       "    .dataframe tbody tr th {\n",
       "        vertical-align: top;\n",
       "    }\n",
       "\n",
       "    .dataframe thead th {\n",
       "        text-align: right;\n",
       "    }\n",
       "</style>\n",
       "<table border=\"1\" class=\"dataframe\">\n",
       "  <thead>\n",
       "    <tr style=\"text-align: right;\">\n",
       "      <th></th>\n",
       "      <th>FeatureName</th>\n",
       "      <th>Score</th>\n",
       "    </tr>\n",
       "  </thead>\n",
       "  <tbody>\n",
       "    <tr>\n",
       "      <th>18</th>\n",
       "      <td>EXT_SOURCE_2</td>\n",
       "      <td>7,590.54</td>\n",
       "    </tr>\n",
       "    <tr>\n",
       "      <th>19</th>\n",
       "      <td>EXT_SOURCE_3</td>\n",
       "      <td>4,277.95</td>\n",
       "    </tr>\n",
       "    <tr>\n",
       "      <th>111</th>\n",
       "      <td>YEARS_BIRTH_NORM</td>\n",
       "      <td>1,870.33</td>\n",
       "    </tr>\n",
       "    <tr>\n",
       "      <th>112</th>\n",
       "      <td>DAYS_EMPLOYED_NORM</td>\n",
       "      <td>1,378.25</td>\n",
       "    </tr>\n",
       "    <tr>\n",
       "      <th>17</th>\n",
       "      <td>EXT_SOURCE_1</td>\n",
       "      <td>1,206.07</td>\n",
       "    </tr>\n",
       "    <tr>\n",
       "      <th>...</th>\n",
       "      <td>...</td>\n",
       "      <td>...</td>\n",
       "    </tr>\n",
       "    <tr>\n",
       "      <th>61</th>\n",
       "      <td>NAME_HOUSING_TYPE_Co-op apartment</td>\n",
       "      <td>0.04</td>\n",
       "    </tr>\n",
       "    <tr>\n",
       "      <th>81</th>\n",
       "      <td>NAME_FAMILY_STATUS_Separated</td>\n",
       "      <td>0.03</td>\n",
       "    </tr>\n",
       "    <tr>\n",
       "      <th>115</th>\n",
       "      <td>AMT_REQ_CREDIT_BUREAU_HOUR_NORM</td>\n",
       "      <td>0.02</td>\n",
       "    </tr>\n",
       "    <tr>\n",
       "      <th>8</th>\n",
       "      <td>FLAG_CONT_MOBILE</td>\n",
       "      <td>0.01</td>\n",
       "    </tr>\n",
       "    <tr>\n",
       "      <th>25</th>\n",
       "      <td>FLAG_DOCUMENT_5</td>\n",
       "      <td>0.00</td>\n",
       "    </tr>\n",
       "  </tbody>\n",
       "</table>\n",
       "<p>128 rows × 2 columns</p>\n",
       "</div>"
      ],
      "text/plain": [
       "                           FeatureName    Score\n",
       "18                        EXT_SOURCE_2 7,590.54\n",
       "19                        EXT_SOURCE_3 4,277.95\n",
       "111                   YEARS_BIRTH_NORM 1,870.33\n",
       "112                 DAYS_EMPLOYED_NORM 1,378.25\n",
       "17                        EXT_SOURCE_1 1,206.07\n",
       "..                                 ...      ...\n",
       "61   NAME_HOUSING_TYPE_Co-op apartment     0.04\n",
       "81        NAME_FAMILY_STATUS_Separated     0.03\n",
       "115    AMT_REQ_CREDIT_BUREAU_HOUR_NORM     0.02\n",
       "8                     FLAG_CONT_MOBILE     0.01\n",
       "25                     FLAG_DOCUMENT_5     0.00\n",
       "\n",
       "[128 rows x 2 columns]"
      ]
     },
     "execution_count": 21,
     "metadata": {},
     "output_type": "execute_result"
    }
   ],
   "source": [
    "pd.DataFrame({'FeatureName': features.columns, \n",
    "              'Score': select_univariate.scores_}).sort_values(by='Score', \n",
    "                                                               ascending=False)"
   ]
  },
  {
   "cell_type": "code",
   "execution_count": 22,
   "id": "5cbf46b5",
   "metadata": {},
   "outputs": [
    {
     "data": {
      "text/html": [
       "<div>\n",
       "<style scoped>\n",
       "    .dataframe tbody tr th:only-of-type {\n",
       "        vertical-align: middle;\n",
       "    }\n",
       "\n",
       "    .dataframe tbody tr th {\n",
       "        vertical-align: top;\n",
       "    }\n",
       "\n",
       "    .dataframe thead th {\n",
       "        text-align: right;\n",
       "    }\n",
       "</style>\n",
       "<table border=\"1\" class=\"dataframe\">\n",
       "  <thead>\n",
       "    <tr style=\"text-align: right;\">\n",
       "      <th></th>\n",
       "      <th>Univariate Method</th>\n",
       "    </tr>\n",
       "  </thead>\n",
       "  <tbody>\n",
       "    <tr>\n",
       "      <th>0</th>\n",
       "      <td>NAME_CONTRACT_TYPE</td>\n",
       "    </tr>\n",
       "    <tr>\n",
       "      <th>1</th>\n",
       "      <td>CODE_GENDER</td>\n",
       "    </tr>\n",
       "    <tr>\n",
       "      <th>2</th>\n",
       "      <td>REGION_POPULATION_RELATIVE</td>\n",
       "    </tr>\n",
       "    <tr>\n",
       "      <th>3</th>\n",
       "      <td>FLAG_EMP_PHONE</td>\n",
       "    </tr>\n",
       "    <tr>\n",
       "      <th>4</th>\n",
       "      <td>FLAG_WORK_PHONE</td>\n",
       "    </tr>\n",
       "    <tr>\n",
       "      <th>5</th>\n",
       "      <td>FLAG_PHONE</td>\n",
       "    </tr>\n",
       "    <tr>\n",
       "      <th>6</th>\n",
       "      <td>REG_CITY_NOT_LIVE_CITY</td>\n",
       "    </tr>\n",
       "    <tr>\n",
       "      <th>7</th>\n",
       "      <td>REG_CITY_NOT_WORK_CITY</td>\n",
       "    </tr>\n",
       "    <tr>\n",
       "      <th>8</th>\n",
       "      <td>LIVE_CITY_NOT_WORK_CITY</td>\n",
       "    </tr>\n",
       "    <tr>\n",
       "      <th>9</th>\n",
       "      <td>EXT_SOURCE_1</td>\n",
       "    </tr>\n",
       "    <tr>\n",
       "      <th>10</th>\n",
       "      <td>EXT_SOURCE_2</td>\n",
       "    </tr>\n",
       "    <tr>\n",
       "      <th>11</th>\n",
       "      <td>EXT_SOURCE_3</td>\n",
       "    </tr>\n",
       "    <tr>\n",
       "      <th>12</th>\n",
       "      <td>TOTALAREA_MODE</td>\n",
       "    </tr>\n",
       "    <tr>\n",
       "      <th>13</th>\n",
       "      <td>EMERGENCYSTATE_MODE</td>\n",
       "    </tr>\n",
       "    <tr>\n",
       "      <th>14</th>\n",
       "      <td>FLAG_DOCUMENT_3</td>\n",
       "    </tr>\n",
       "    <tr>\n",
       "      <th>15</th>\n",
       "      <td>FLAG_DOCUMENT_6</td>\n",
       "    </tr>\n",
       "    <tr>\n",
       "      <th>16</th>\n",
       "      <td>APARTMENTS_NORM</td>\n",
       "    </tr>\n",
       "    <tr>\n",
       "      <th>17</th>\n",
       "      <td>BASEMENTAREA_NORM</td>\n",
       "    </tr>\n",
       "    <tr>\n",
       "      <th>18</th>\n",
       "      <td>YEARS_BEGINEXPLUATATION_NORM</td>\n",
       "    </tr>\n",
       "    <tr>\n",
       "      <th>19</th>\n",
       "      <td>YEARS_BUILD_NORM</td>\n",
       "    </tr>\n",
       "    <tr>\n",
       "      <th>20</th>\n",
       "      <td>ELEVATORS_NORM</td>\n",
       "    </tr>\n",
       "    <tr>\n",
       "      <th>21</th>\n",
       "      <td>ENTRANCES_NORM</td>\n",
       "    </tr>\n",
       "    <tr>\n",
       "      <th>22</th>\n",
       "      <td>FLOORSMAX_NORM</td>\n",
       "    </tr>\n",
       "    <tr>\n",
       "      <th>23</th>\n",
       "      <td>FLOORSMIN_NORM</td>\n",
       "    </tr>\n",
       "    <tr>\n",
       "      <th>24</th>\n",
       "      <td>LANDAREA_NORM</td>\n",
       "    </tr>\n",
       "    <tr>\n",
       "      <th>25</th>\n",
       "      <td>LIVINGAPARTMENTS_NORM</td>\n",
       "    </tr>\n",
       "    <tr>\n",
       "      <th>26</th>\n",
       "      <td>LIVINGAREA_NORM</td>\n",
       "    </tr>\n",
       "    <tr>\n",
       "      <th>27</th>\n",
       "      <td>FONDKAPREMONT_MODE_reg oper account</td>\n",
       "    </tr>\n",
       "    <tr>\n",
       "      <th>28</th>\n",
       "      <td>NAME_HOUSING_TYPE_House / apartment</td>\n",
       "    </tr>\n",
       "    <tr>\n",
       "      <th>29</th>\n",
       "      <td>NAME_HOUSING_TYPE_With parents</td>\n",
       "    </tr>\n",
       "    <tr>\n",
       "      <th>30</th>\n",
       "      <td>WALLSMATERIAL_MODE_Panel</td>\n",
       "    </tr>\n",
       "    <tr>\n",
       "      <th>31</th>\n",
       "      <td>NAME_FAMILY_STATUS_Single / not married</td>\n",
       "    </tr>\n",
       "    <tr>\n",
       "      <th>32</th>\n",
       "      <td>REGION_RATING_CLIENT_1</td>\n",
       "    </tr>\n",
       "    <tr>\n",
       "      <th>33</th>\n",
       "      <td>REGION_RATING_CLIENT_3</td>\n",
       "    </tr>\n",
       "    <tr>\n",
       "      <th>34</th>\n",
       "      <td>NAME_INCOME_TYPE_Pensioner</td>\n",
       "    </tr>\n",
       "    <tr>\n",
       "      <th>35</th>\n",
       "      <td>NAME_INCOME_TYPE_State servant</td>\n",
       "    </tr>\n",
       "    <tr>\n",
       "      <th>36</th>\n",
       "      <td>NAME_INCOME_TYPE_Working</td>\n",
       "    </tr>\n",
       "    <tr>\n",
       "      <th>37</th>\n",
       "      <td>REGION_RATING_CLIENT_W_CITY_1</td>\n",
       "    </tr>\n",
       "    <tr>\n",
       "      <th>38</th>\n",
       "      <td>REGION_RATING_CLIENT_W_CITY_3</td>\n",
       "    </tr>\n",
       "    <tr>\n",
       "      <th>39</th>\n",
       "      <td>NAME_EDUCATION_TYPE_Higher education</td>\n",
       "    </tr>\n",
       "    <tr>\n",
       "      <th>40</th>\n",
       "      <td>NAME_EDUCATION_TYPE_Secondary / secondary special</td>\n",
       "    </tr>\n",
       "    <tr>\n",
       "      <th>41</th>\n",
       "      <td>HOUSETYPE_MODE_block of flats</td>\n",
       "    </tr>\n",
       "    <tr>\n",
       "      <th>42</th>\n",
       "      <td>AMT_GOODS_PRICE_NORM</td>\n",
       "    </tr>\n",
       "    <tr>\n",
       "      <th>43</th>\n",
       "      <td>YEARS_BIRTH_NORM</td>\n",
       "    </tr>\n",
       "    <tr>\n",
       "      <th>44</th>\n",
       "      <td>DAYS_EMPLOYED_NORM</td>\n",
       "    </tr>\n",
       "    <tr>\n",
       "      <th>45</th>\n",
       "      <td>DAYS_REGISTRATION_NORM</td>\n",
       "    </tr>\n",
       "    <tr>\n",
       "      <th>46</th>\n",
       "      <td>DAYS_ID_PUBLISH_NORM</td>\n",
       "    </tr>\n",
       "    <tr>\n",
       "      <th>47</th>\n",
       "      <td>DEF_30_CNT_SOCIAL_CIRCLE_NORM</td>\n",
       "    </tr>\n",
       "    <tr>\n",
       "      <th>48</th>\n",
       "      <td>DEF_60_CNT_SOCIAL_CIRCLE_NORM</td>\n",
       "    </tr>\n",
       "    <tr>\n",
       "      <th>49</th>\n",
       "      <td>DAYS_LAST_PHONE_CHANGE_NORM</td>\n",
       "    </tr>\n",
       "  </tbody>\n",
       "</table>\n",
       "</div>"
      ],
      "text/plain": [
       "                                    Univariate Method\n",
       "0                                  NAME_CONTRACT_TYPE\n",
       "1                                         CODE_GENDER\n",
       "2                          REGION_POPULATION_RELATIVE\n",
       "3                                      FLAG_EMP_PHONE\n",
       "4                                     FLAG_WORK_PHONE\n",
       "5                                          FLAG_PHONE\n",
       "6                              REG_CITY_NOT_LIVE_CITY\n",
       "7                              REG_CITY_NOT_WORK_CITY\n",
       "8                             LIVE_CITY_NOT_WORK_CITY\n",
       "9                                        EXT_SOURCE_1\n",
       "10                                       EXT_SOURCE_2\n",
       "11                                       EXT_SOURCE_3\n",
       "12                                     TOTALAREA_MODE\n",
       "13                                EMERGENCYSTATE_MODE\n",
       "14                                    FLAG_DOCUMENT_3\n",
       "15                                    FLAG_DOCUMENT_6\n",
       "16                                    APARTMENTS_NORM\n",
       "17                                  BASEMENTAREA_NORM\n",
       "18                       YEARS_BEGINEXPLUATATION_NORM\n",
       "19                                   YEARS_BUILD_NORM\n",
       "20                                     ELEVATORS_NORM\n",
       "21                                     ENTRANCES_NORM\n",
       "22                                     FLOORSMAX_NORM\n",
       "23                                     FLOORSMIN_NORM\n",
       "24                                      LANDAREA_NORM\n",
       "25                              LIVINGAPARTMENTS_NORM\n",
       "26                                    LIVINGAREA_NORM\n",
       "27                FONDKAPREMONT_MODE_reg oper account\n",
       "28                NAME_HOUSING_TYPE_House / apartment\n",
       "29                     NAME_HOUSING_TYPE_With parents\n",
       "30                           WALLSMATERIAL_MODE_Panel\n",
       "31            NAME_FAMILY_STATUS_Single / not married\n",
       "32                             REGION_RATING_CLIENT_1\n",
       "33                             REGION_RATING_CLIENT_3\n",
       "34                         NAME_INCOME_TYPE_Pensioner\n",
       "35                     NAME_INCOME_TYPE_State servant\n",
       "36                           NAME_INCOME_TYPE_Working\n",
       "37                      REGION_RATING_CLIENT_W_CITY_1\n",
       "38                      REGION_RATING_CLIENT_W_CITY_3\n",
       "39               NAME_EDUCATION_TYPE_Higher education\n",
       "40  NAME_EDUCATION_TYPE_Secondary / secondary special\n",
       "41                      HOUSETYPE_MODE_block of flats\n",
       "42                               AMT_GOODS_PRICE_NORM\n",
       "43                                   YEARS_BIRTH_NORM\n",
       "44                                 DAYS_EMPLOYED_NORM\n",
       "45                             DAYS_REGISTRATION_NORM\n",
       "46                               DAYS_ID_PUBLISH_NORM\n",
       "47                      DEF_30_CNT_SOCIAL_CIRCLE_NORM\n",
       "48                      DEF_60_CNT_SOCIAL_CIRCLE_NORM\n",
       "49                        DAYS_LAST_PHONE_CHANGE_NORM"
      ]
     },
     "execution_count": 22,
     "metadata": {},
     "output_type": "execute_result"
    }
   ],
   "source": [
    "uni_df = pd.DataFrame({'Univariate Method': features.columns[feature_mask]})\n",
    "uni_df"
   ]
  },
  {
   "cell_type": "code",
   "execution_count": 23,
   "id": "4da240b9",
   "metadata": {},
   "outputs": [],
   "source": [
    "from sklearn.linear_model import LinearRegression\n",
    "from sklearn.feature_selection import RFE\n",
    "\n",
    "linear_regression = LinearRegression()"
   ]
  },
  {
   "cell_type": "code",
   "execution_count": null,
   "id": "143fb4fb",
   "metadata": {},
   "outputs": [],
   "source": [
    "rfe = RFE(estimator = linear_regression, \n",
    "          n_features_to_select = 5, \n",
    "          step = 1)"
   ]
  },
  {
   "cell_type": "code",
   "execution_count": null,
   "id": "8a92c7ba",
   "metadata": {},
   "outputs": [],
   "source": [
    "rfe.fit(features,target)"
   ]
  },
  {
   "cell_type": "code",
   "execution_count": null,
   "id": "823a5290",
   "metadata": {},
   "outputs": [],
   "source": [
    "rfe_features = features.columns[rfe.support_]\n",
    "rfe_features"
   ]
  },
  {
   "cell_type": "code",
   "execution_count": null,
   "id": "f15d82a2",
   "metadata": {},
   "outputs": [],
   "source": [
    "pd.DataFrame({'FeatureName': features.columns, \n",
    "              'Rank': rfe.ranking_}).sort_values(by='Rank')"
   ]
  },
  {
   "cell_type": "code",
   "execution_count": null,
   "id": "2c3a3968",
   "metadata": {},
   "outputs": [],
   "source": [
    "rfe_df = pd.DataFrame({'RFE Method': rfe_features})\n",
    "\n",
    "rfe_df"
   ]
  },
  {
   "cell_type": "code",
   "execution_count": null,
   "id": "bde41843",
   "metadata": {},
   "outputs": [],
   "source": [
    "from mlxtend.feature_selection import SequentialFeatureSelector"
   ]
  },
  {
   "cell_type": "code",
   "execution_count": null,
   "id": "0c16a586",
   "metadata": {},
   "outputs": [],
   "source": [
    "feature_filtered = feature_selector.fit(features, target)"
   ]
  },
  {
   "cell_type": "code",
   "execution_count": null,
   "id": "749c0654",
   "metadata": {},
   "outputs": [],
   "source": [
    "back_df = pd.DataFrame({'Backward Method': backward_features})\n",
    "back_df"
   ]
  },
  {
   "cell_type": "code",
   "execution_count": null,
   "id": "f9a2ce58",
   "metadata": {},
   "outputs": [],
   "source": [
    "feature_selector = SequentialFeatureSelector(LinearRegression(),  \n",
    "                                             k_features=5,\n",
    "                                             forward=True,\n",
    "                                             scoring='neg_mean_squared_error',\n",
    "                                             cv=4)"
   ]
  },
  {
   "cell_type": "code",
   "execution_count": null,
   "id": "70c0aa5a",
   "metadata": {},
   "outputs": [],
   "source": [
    "feature_filtered = feature_selector.fit(features, target)"
   ]
  },
  {
   "cell_type": "code",
   "execution_count": null,
   "id": "add1e498",
   "metadata": {},
   "outputs": [],
   "source": [
    "forward_features = list(feature_filtered.k_feature_names_)\n",
    "forward_features"
   ]
  },
  {
   "cell_type": "code",
   "execution_count": null,
   "id": "db8b157d",
   "metadata": {},
   "outputs": [],
   "source": [
    "forw_df = pd.DataFrame({'Forward Method': forward_features})\n",
    "forw_df"
   ]
  },
  {
   "cell_type": "code",
   "execution_count": null,
   "id": "c6be0639",
   "metadata": {},
   "outputs": [],
   "source": [
    "from sklearn.linear_model import  Lasso"
   ]
  },
  {
   "cell_type": "code",
   "execution_count": null,
   "id": "ba2b3cf2",
   "metadata": {},
   "outputs": [],
   "source": [
    "lasso = Lasso(alpha=1.0)\n",
    "lasso.fit(features, target)"
   ]
  },
  {
   "cell_type": "code",
   "execution_count": null,
   "id": "ee4f458c",
   "metadata": {},
   "outputs": [],
   "source": [
    "lasso_coef = pd.DataFrame({'Feature': features.columns, \n",
    "                           'LassoCoef': lasso.coef_}).sort_values(by = 'LassoCoef',\n",
    "                                                                  ascending =False)\n",
    "lasso_coef"
   ]
  },
  {
   "cell_type": "code",
   "execution_count": null,
   "id": "37c313f6",
   "metadata": {},
   "outputs": [],
   "source": [
    "lasso_coef['LassoCoef'] = abs(lasso_coef['LassoCoef'])\n",
    "lasso_coef.sort_values(by='LassoCoef', ascending=False)"
   ]
  },
  {
   "cell_type": "code",
   "execution_count": null,
   "id": "7677ce53",
   "metadata": {},
   "outputs": [],
   "source": [
    "lasso_df = lasso_coef.sort_values(by='LassoCoef', ascending=False).head(5)\n",
    "lasso_df = pd.DataFrame({'Lasso Method': lasso_df['Feature'].values})\n",
    "lasso_df"
   ]
  },
  {
   "cell_type": "code",
   "execution_count": null,
   "id": "3d0d2787",
   "metadata": {},
   "outputs": [],
   "source": [
    "comp_selected_col_df = [uni_df, \n",
    "                        rfe_df, \n",
    "                        back_df, \n",
    "                        forw_df, \n",
    "                        lasso_df]\n",
    "\n",
    "final_df = pd.concat(comp_selected_col_df, axis=1)"
   ]
  },
  {
   "cell_type": "code",
   "execution_count": null,
   "id": "48d20758",
   "metadata": {},
   "outputs": [],
   "source": [
    "final_df[:5]"
   ]
  },
  {
   "cell_type": "code",
   "execution_count": null,
   "id": "84205a3a",
   "metadata": {},
   "outputs": [],
   "source": []
  },
  {
   "cell_type": "code",
   "execution_count": null,
   "id": "7d60a8c1",
   "metadata": {},
   "outputs": [],
   "source": []
  },
  {
   "cell_type": "code",
   "execution_count": null,
   "id": "98823ed5",
   "metadata": {},
   "outputs": [],
   "source": []
  }
 ],
 "metadata": {
  "kernelspec": {
   "display_name": "Python 3 (ipykernel)",
   "language": "python",
   "name": "python3"
  },
  "language_info": {
   "codemirror_mode": {
    "name": "ipython",
    "version": 3
   },
   "file_extension": ".py",
   "mimetype": "text/x-python",
   "name": "python",
   "nbconvert_exporter": "python",
   "pygments_lexer": "ipython3",
   "version": "3.9.12"
  }
 },
 "nbformat": 4,
 "nbformat_minor": 5
}
